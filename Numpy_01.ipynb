{
 "cells": [
  {
   "cell_type": "markdown",
   "id": "b639a530",
   "metadata": {},
   "source": [
    "## Créer un array NumPy"
   ]
  },
  {
   "cell_type": "code",
   "execution_count": 12,
   "id": "7c676228",
   "metadata": {},
   "outputs": [
    {
     "data": {
      "text/plain": [
       "array([1800, 1500, 2200, 3000, 2172])"
      ]
     },
     "execution_count": 12,
     "metadata": {},
     "output_type": "execute_result"
    }
   ],
   "source": [
    "import numpy as np\n",
    "\n",
    "revenus = [1800, 1500, 2200, 3000, 2172]\n",
    "\n",
    "revenu_array = np.array(revenus)\n",
    "\n",
    "revenu_array"
   ]
  },
  {
   "cell_type": "markdown",
   "id": "97863d51",
   "metadata": {},
   "source": [
    "## Quelques fonctions de base"
   ]
  },
  {
   "cell_type": "markdown",
   "id": "a1eb8128",
   "metadata": {},
   "source": [
    "### Array avec les zeros"
   ]
  },
  {
   "cell_type": "code",
   "execution_count": 6,
   "id": "0c85d05f",
   "metadata": {},
   "outputs": [
    {
     "name": "stdout",
     "output_type": "stream",
     "text": [
      "[[0. 0.]\n",
      " [0. 0.]\n",
      " [0. 0.]\n",
      " [0. 0.]\n",
      " [0. 0.]]\n"
     ]
    }
   ],
   "source": [
    "array_zero = np.zeros([5,2])\n",
    "print(array_zero)"
   ]
  },
  {
   "cell_type": "markdown",
   "id": "632704dd",
   "metadata": {},
   "source": [
    "### Array des uns"
   ]
  },
  {
   "cell_type": "code",
   "execution_count": 7,
   "id": "593a3529",
   "metadata": {},
   "outputs": [
    {
     "data": {
      "text/plain": [
       "array([[1., 1., 1., 1.],\n",
       "       [1., 1., 1., 1.],\n",
       "       [1., 1., 1., 1.]])"
      ]
     },
     "execution_count": 7,
     "metadata": {},
     "output_type": "execute_result"
    }
   ],
   "source": [
    "array_un = np.ones([3,4])\n",
    "array_un"
   ]
  },
  {
   "cell_type": "markdown",
   "id": "3b7718c2",
   "metadata": {},
   "source": [
    "### Array avec une sequence lineaire : arange"
   ]
  },
  {
   "cell_type": "code",
   "execution_count": 10,
   "id": "8846a4af",
   "metadata": {},
   "outputs": [
    {
     "data": {
      "text/plain": [
       "array([ 1,  3,  5,  7,  9, 11, 13])"
      ]
     },
     "execution_count": 10,
     "metadata": {},
     "output_type": "execute_result"
    }
   ],
   "source": [
    "array_lineare = np.arange(1,15,2)\n",
    "array_lineare"
   ]
  },
  {
   "cell_type": "markdown",
   "id": "7997bb34",
   "metadata": {},
   "source": [
    "### Array de n valeurs espacées : linspace"
   ]
  },
  {
   "cell_type": "code",
   "execution_count": 11,
   "id": "103f00b4",
   "metadata": {},
   "outputs": [
    {
     "data": {
      "text/plain": [
       "array([ 1.        ,  1.14141414,  1.28282828,  1.42424242,  1.56565657,\n",
       "        1.70707071,  1.84848485,  1.98989899,  2.13131313,  2.27272727,\n",
       "        2.41414141,  2.55555556,  2.6969697 ,  2.83838384,  2.97979798,\n",
       "        3.12121212,  3.26262626,  3.4040404 ,  3.54545455,  3.68686869,\n",
       "        3.82828283,  3.96969697,  4.11111111,  4.25252525,  4.39393939,\n",
       "        4.53535354,  4.67676768,  4.81818182,  4.95959596,  5.1010101 ,\n",
       "        5.24242424,  5.38383838,  5.52525253,  5.66666667,  5.80808081,\n",
       "        5.94949495,  6.09090909,  6.23232323,  6.37373737,  6.51515152,\n",
       "        6.65656566,  6.7979798 ,  6.93939394,  7.08080808,  7.22222222,\n",
       "        7.36363636,  7.50505051,  7.64646465,  7.78787879,  7.92929293,\n",
       "        8.07070707,  8.21212121,  8.35353535,  8.49494949,  8.63636364,\n",
       "        8.77777778,  8.91919192,  9.06060606,  9.2020202 ,  9.34343434,\n",
       "        9.48484848,  9.62626263,  9.76767677,  9.90909091, 10.05050505,\n",
       "       10.19191919, 10.33333333, 10.47474747, 10.61616162, 10.75757576,\n",
       "       10.8989899 , 11.04040404, 11.18181818, 11.32323232, 11.46464646,\n",
       "       11.60606061, 11.74747475, 11.88888889, 12.03030303, 12.17171717,\n",
       "       12.31313131, 12.45454545, 12.5959596 , 12.73737374, 12.87878788,\n",
       "       13.02020202, 13.16161616, 13.3030303 , 13.44444444, 13.58585859,\n",
       "       13.72727273, 13.86868687, 14.01010101, 14.15151515, 14.29292929,\n",
       "       14.43434343, 14.57575758, 14.71717172, 14.85858586, 15.        ])"
      ]
     },
     "execution_count": 11,
     "metadata": {},
     "output_type": "execute_result"
    }
   ],
   "source": [
    "array_espace = np.linspace(1,15, 100)\n",
    "array_espace"
   ]
  },
  {
   "cell_type": "markdown",
   "id": "d52be5e7",
   "metadata": {},
   "source": [
    "### Accéder au type d'élément d'un array : dtype"
   ]
  },
  {
   "cell_type": "code",
   "execution_count": 13,
   "id": "eba5b045",
   "metadata": {},
   "outputs": [
    {
     "data": {
      "text/plain": [
       "dtype('int32')"
      ]
     },
     "execution_count": 13,
     "metadata": {},
     "output_type": "execute_result"
    }
   ],
   "source": [
    "revenu_array.dtype"
   ]
  },
  {
   "cell_type": "markdown",
   "id": "5d34b498",
   "metadata": {},
   "source": [
    "### Selectionner les éléments d'un array "
   ]
  },
  {
   "cell_type": "markdown",
   "id": "58a5a574",
   "metadata": {},
   "source": [
    "#### Selectionner un seul élément"
   ]
  },
  {
   "cell_type": "code",
   "execution_count": 15,
   "id": "8820659b",
   "metadata": {},
   "outputs": [
    {
     "name": "stdout",
     "output_type": "stream",
     "text": [
      "2200\n"
     ]
    },
    {
     "data": {
      "text/plain": [
       "2172"
      ]
     },
     "execution_count": 15,
     "metadata": {},
     "output_type": "execute_result"
    }
   ],
   "source": [
    "print(revenu_array[2])\n",
    "revenu_array[-1]"
   ]
  },
  {
   "cell_type": "markdown",
   "id": "91a2cb3f",
   "metadata": {},
   "source": [
    "#### Selectionner un ensemble d'éléments"
   ]
  },
  {
   "cell_type": "code",
   "execution_count": 16,
   "id": "0af1f274",
   "metadata": {},
   "outputs": [
    {
     "name": "stdout",
     "output_type": "stream",
     "text": [
      "[1500 2200]\n"
     ]
    }
   ],
   "source": [
    "print(revenu_array[1:3])"
   ]
  },
  {
   "cell_type": "markdown",
   "id": "cd4839c0",
   "metadata": {},
   "source": [
    "#### Sélectionner plusieurs éléments sur condition"
   ]
  },
  {
   "cell_type": "code",
   "execution_count": 17,
   "id": "fb845598",
   "metadata": {},
   "outputs": [
    {
     "name": "stdout",
     "output_type": "stream",
     "text": [
      "[2200 3000 2172]\n"
     ]
    }
   ],
   "source": [
    "print(revenu_array[revenu_array>2000])"
   ]
  },
  {
   "cell_type": "code",
   "execution_count": 19,
   "id": "72adcf0c",
   "metadata": {},
   "outputs": [
    {
     "data": {
      "text/plain": [
       "array([False, False,  True,  True,  True])"
      ]
     },
     "execution_count": 19,
     "metadata": {},
     "output_type": "execute_result"
    }
   ],
   "source": [
    "revenu_array > 2000"
   ]
  },
  {
   "cell_type": "markdown",
   "id": "5be695ef",
   "metadata": {},
   "source": [
    "### Autres méthodes NumPy"
   ]
  },
  {
   "cell_type": "markdown",
   "id": "ab471d80",
   "metadata": {},
   "source": [
    "#### Dimension d'un array : shape"
   ]
  },
  {
   "cell_type": "code",
   "execution_count": 20,
   "id": "f15a531e",
   "metadata": {},
   "outputs": [
    {
     "data": {
      "text/plain": [
       "(5,)"
      ]
     },
     "execution_count": 20,
     "metadata": {},
     "output_type": "execute_result"
    }
   ],
   "source": [
    "revenu_array.shape"
   ]
  },
  {
   "cell_type": "markdown",
   "id": "d31f7302",
   "metadata": {},
   "source": [
    "#### Moyenne d'un array : mean()"
   ]
  },
  {
   "cell_type": "code",
   "execution_count": 21,
   "id": "e1245eb6",
   "metadata": {},
   "outputs": [
    {
     "data": {
      "text/plain": [
       "2134.4"
      ]
     },
     "execution_count": 21,
     "metadata": {},
     "output_type": "execute_result"
    }
   ],
   "source": [
    "revenu_array.mean()"
   ]
  },
  {
   "cell_type": "markdown",
   "id": "3e0a7ac8",
   "metadata": {},
   "source": [
    "#### Maximum ou minimum d'un array : max() ou min()"
   ]
  },
  {
   "cell_type": "code",
   "execution_count": 22,
   "id": "7fddb755",
   "metadata": {},
   "outputs": [
    {
     "name": "stdout",
     "output_type": "stream",
     "text": [
      "3000\n",
      "1500\n"
     ]
    }
   ],
   "source": [
    "print(revenu_array.max())\n",
    "print(revenu_array.min())"
   ]
  },
  {
   "cell_type": "markdown",
   "id": "34450707",
   "metadata": {},
   "source": [
    "#### Indice du Max ou du Min : argmax() ou argmin()"
   ]
  },
  {
   "cell_type": "code",
   "execution_count": 23,
   "id": "f984f79c",
   "metadata": {},
   "outputs": [
    {
     "name": "stdout",
     "output_type": "stream",
     "text": [
      "3\n",
      "1\n"
     ]
    }
   ],
   "source": [
    "print(revenu_array.argmax())\n",
    "print(revenu_array.argmin())"
   ]
  },
  {
   "cell_type": "code",
   "execution_count": null,
   "id": "1a74eee8",
   "metadata": {},
   "outputs": [],
   "source": []
  }
 ],
 "metadata": {
  "kernelspec": {
   "display_name": "Python 3 (ipykernel)",
   "language": "python",
   "name": "python3"
  },
  "language_info": {
   "codemirror_mode": {
    "name": "ipython",
    "version": 3
   },
   "file_extension": ".py",
   "mimetype": "text/x-python",
   "name": "python",
   "nbconvert_exporter": "python",
   "pygments_lexer": "ipython3",
   "version": "3.11.7"
  }
 },
 "nbformat": 4,
 "nbformat_minor": 5
}
