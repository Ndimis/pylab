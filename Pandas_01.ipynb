{
 "cells": [
  {
   "cell_type": "markdown",
   "metadata": {},
   "source": [
    "# Introduction à Pandas"
   ]
  },
  {
   "cell_type": "markdown",
   "metadata": {},
   "source": [
    "### Importation de la bibliotèque et bd"
   ]
  },
  {
   "cell_type": "code",
   "execution_count": null,
   "metadata": {},
   "outputs": [],
   "source": [
    "import pandas as pd\n",
    "df = pd.read_csv('wustl_iiot_2021.csv')"
   ]
  },
  {
   "cell_type": "markdown",
   "metadata": {},
   "source": [
    "#### Afficher la taille de notre dataFrame : shape"
   ]
  },
  {
   "cell_type": "code",
   "execution_count": null,
   "metadata": {},
   "outputs": [],
   "source": [
    "df.shape"
   ]
  },
  {
   "cell_type": "markdown",
   "metadata": {},
   "source": [
    "#### Afficher les titres des colonnes : columns"
   ]
  },
  {
   "cell_type": "code",
   "execution_count": null,
   "metadata": {},
   "outputs": [],
   "source": [
    "df.columns"
   ]
  },
  {
   "cell_type": "markdown",
   "metadata": {},
   "source": [
    "#### Afficher les types de chaque colonne : info()"
   ]
  },
  {
   "cell_type": "code",
   "execution_count": null,
   "metadata": {},
   "outputs": [],
   "source": [
    "df.info()"
   ]
  },
  {
   "cell_type": "markdown",
   "metadata": {},
   "source": [
    "#### Afficher les premières lignes : head()"
   ]
  },
  {
   "cell_type": "code",
   "execution_count": 9,
   "metadata": {},
   "outputs": [
    {
     "data": {
      "text/html": [
       "<div>\n",
       "<style scoped>\n",
       "    .dataframe tbody tr th:only-of-type {\n",
       "        vertical-align: middle;\n",
       "    }\n",
       "\n",
       "    .dataframe tbody tr th {\n",
       "        vertical-align: top;\n",
       "    }\n",
       "\n",
       "    .dataframe thead th {\n",
       "        text-align: right;\n",
       "    }\n",
       "</style>\n",
       "<table border=\"1\" class=\"dataframe\">\n",
       "  <thead>\n",
       "    <tr style=\"text-align: right;\">\n",
       "      <th></th>\n",
       "      <th>StartTime</th>\n",
       "      <th>LastTime</th>\n",
       "      <th>SrcAddr</th>\n",
       "      <th>DstAddr</th>\n",
       "      <th>Mean</th>\n",
       "      <th>Sport</th>\n",
       "      <th>Dport</th>\n",
       "      <th>SrcPkts</th>\n",
       "      <th>DstPkts</th>\n",
       "      <th>TotPkts</th>\n",
       "      <th>...</th>\n",
       "      <th>SAppBytes</th>\n",
       "      <th>DAppBytes</th>\n",
       "      <th>TotAppByte</th>\n",
       "      <th>SynAck</th>\n",
       "      <th>RunTime</th>\n",
       "      <th>sTos</th>\n",
       "      <th>SrcJitAct</th>\n",
       "      <th>DstJitAct</th>\n",
       "      <th>Traffic</th>\n",
       "      <th>Target</th>\n",
       "    </tr>\n",
       "  </thead>\n",
       "  <tbody>\n",
       "    <tr>\n",
       "      <th>0</th>\n",
       "      <td>2019-08-19 12:23:28</td>\n",
       "      <td>2019-08-19 12:23:28</td>\n",
       "      <td>192.168.0.20</td>\n",
       "      <td>192.168.0.2</td>\n",
       "      <td>0</td>\n",
       "      <td>59034</td>\n",
       "      <td>502</td>\n",
       "      <td>10</td>\n",
       "      <td>8</td>\n",
       "      <td>18</td>\n",
       "      <td>...</td>\n",
       "      <td>24</td>\n",
       "      <td>20</td>\n",
       "      <td>44</td>\n",
       "      <td>0.001176</td>\n",
       "      <td>0.053037</td>\n",
       "      <td>0</td>\n",
       "      <td>0.0</td>\n",
       "      <td>0.0</td>\n",
       "      <td>normal</td>\n",
       "      <td>0</td>\n",
       "    </tr>\n",
       "    <tr>\n",
       "      <th>1</th>\n",
       "      <td>2019-08-19 15:13:24</td>\n",
       "      <td>2019-08-19 15:13:24</td>\n",
       "      <td>192.168.0.20</td>\n",
       "      <td>192.168.0.2</td>\n",
       "      <td>0</td>\n",
       "      <td>55841</td>\n",
       "      <td>502</td>\n",
       "      <td>10</td>\n",
       "      <td>8</td>\n",
       "      <td>18</td>\n",
       "      <td>...</td>\n",
       "      <td>24</td>\n",
       "      <td>20</td>\n",
       "      <td>44</td>\n",
       "      <td>0.001308</td>\n",
       "      <td>0.052681</td>\n",
       "      <td>0</td>\n",
       "      <td>0.0</td>\n",
       "      <td>0.0</td>\n",
       "      <td>normal</td>\n",
       "      <td>0</td>\n",
       "    </tr>\n",
       "    <tr>\n",
       "      <th>2</th>\n",
       "      <td>2019-08-19 13:41:31</td>\n",
       "      <td>2019-08-19 13:41:31</td>\n",
       "      <td>192.168.0.20</td>\n",
       "      <td>192.168.0.2</td>\n",
       "      <td>0</td>\n",
       "      <td>63774</td>\n",
       "      <td>502</td>\n",
       "      <td>10</td>\n",
       "      <td>8</td>\n",
       "      <td>18</td>\n",
       "      <td>...</td>\n",
       "      <td>24</td>\n",
       "      <td>20</td>\n",
       "      <td>44</td>\n",
       "      <td>0.000690</td>\n",
       "      <td>0.051793</td>\n",
       "      <td>0</td>\n",
       "      <td>0.0</td>\n",
       "      <td>0.0</td>\n",
       "      <td>normal</td>\n",
       "      <td>0</td>\n",
       "    </tr>\n",
       "  </tbody>\n",
       "</table>\n",
       "<p>3 rows × 49 columns</p>\n",
       "</div>"
      ],
      "text/plain": [
       "             StartTime             LastTime       SrcAddr      DstAddr  Mean  \\\n",
       "0  2019-08-19 12:23:28  2019-08-19 12:23:28  192.168.0.20  192.168.0.2     0   \n",
       "1  2019-08-19 15:13:24  2019-08-19 15:13:24  192.168.0.20  192.168.0.2     0   \n",
       "2  2019-08-19 13:41:31  2019-08-19 13:41:31  192.168.0.20  192.168.0.2     0   \n",
       "\n",
       "   Sport  Dport  SrcPkts  DstPkts  TotPkts  ...  SAppBytes  DAppBytes  \\\n",
       "0  59034    502       10        8       18  ...         24         20   \n",
       "1  55841    502       10        8       18  ...         24         20   \n",
       "2  63774    502       10        8       18  ...         24         20   \n",
       "\n",
       "   TotAppByte    SynAck   RunTime  sTos  SrcJitAct  DstJitAct  Traffic  Target  \n",
       "0          44  0.001176  0.053037     0        0.0        0.0   normal       0  \n",
       "1          44  0.001308  0.052681     0        0.0        0.0   normal       0  \n",
       "2          44  0.000690  0.051793     0        0.0        0.0   normal       0  \n",
       "\n",
       "[3 rows x 49 columns]"
      ]
     },
     "execution_count": 9,
     "metadata": {},
     "output_type": "execute_result"
    }
   ],
   "source": [
    "df.head(3)"
   ]
  }
 ],
 "metadata": {
  "kernelspec": {
   "display_name": "Python 3",
   "language": "python",
   "name": "python3"
  },
  "language_info": {
   "codemirror_mode": {
    "name": "ipython",
    "version": 3
   },
   "file_extension": ".py",
   "mimetype": "text/x-python",
   "name": "python",
   "nbconvert_exporter": "python",
   "pygments_lexer": "ipython3",
   "version": "3.12.3"
  }
 },
 "nbformat": 4,
 "nbformat_minor": 2
}
